{
 "cells": [
  {
   "cell_type": "code",
   "execution_count": 28,
   "metadata": {},
   "outputs": [],
   "source": [
    "import os\n",
    "import openai\n",
    "import faiss\n",
    "from langchain_text_splitters import RecursiveCharacterTextSplitter\n",
    "from langchain_community.document_loaders import PyPDFLoader\n",
    "from langchain_openai import OpenAIEmbeddings\n",
    "from langchain_community.vectorstores import FAISS\n",
    "from langchain.chains import RetrievalQA\n",
    "from langchain.schema import BaseRetriever\n",
    "from langchain.memory import ConversationBufferMemory\n",
    "from langchain.schema import HumanMessage, AIMessage"
   ]
  },
  {
   "cell_type": "code",
   "execution_count": 15,
   "metadata": {},
   "outputs": [],
   "source": [
    "os.environ[\"OPEN_AI_API\"] = os.getenv(\"OPEN_AI_API\")\n",
    "open_ai_api_key = os.getenv(\"OPEN_AI_API\")"
   ]
  },
  {
   "cell_type": "code",
   "execution_count": 16,
   "metadata": {},
   "outputs": [],
   "source": [
    "root_directory = \".\\Documents\"\n",
    "documents = list()"
   ]
  },
  {
   "cell_type": "code",
   "execution_count": 17,
   "metadata": {},
   "outputs": [],
   "source": [
    "client = openai.OpenAI(api_key=open_ai_api_key)"
   ]
  },
  {
   "cell_type": "code",
   "execution_count": 18,
   "metadata": {},
   "outputs": [
    {
     "name": "stderr",
     "output_type": "stream",
     "text": [
      "XRef object at 2945 can not be read, some object may be missing\n",
      "XRef object at 2945 can not be read, some object may be missing\n",
      "Ignoring wrong pointing object 2268 0 (offset 1064028)\n",
      "Ignoring wrong pointing object 2269 0 (offset 1064028)\n"
     ]
    }
   ],
   "source": [
    "for folder, _, files in os.walk(root_directory):\n",
    "    for file in files:\n",
    "        file_path = os.path.join(folder, file)\n",
    "        try:\n",
    "            loader = PyPDFLoader(file_path)\n",
    "            docs = loader.load()\n",
    "            documents.extend(docs)\n",
    "        except Exception as e:\n",
    "            print(f\"Error loading {file_path}: {e}\")"
   ]
  },
  {
   "cell_type": "code",
   "execution_count": 19,
   "metadata": {},
   "outputs": [
    {
     "data": {
      "text/plain": [
       "2421"
      ]
     },
     "execution_count": 19,
     "metadata": {},
     "output_type": "execute_result"
    }
   ],
   "source": [
    "len(documents)"
   ]
  },
  {
   "cell_type": "code",
   "execution_count": 20,
   "metadata": {},
   "outputs": [],
   "source": [
    "text_splitter = RecursiveCharacterTextSplitter(chunk_size=8000, chunk_overlap=200)\n",
    "split_docs = text_splitter.split_documents(documents)"
   ]
  },
  {
   "cell_type": "code",
   "execution_count": 21,
   "metadata": {},
   "outputs": [],
   "source": [
    "embedding_model = OpenAIEmbeddings(model=\"text-embedding-3-large\", api_key=open_ai_api_key)"
   ]
  },
  {
   "cell_type": "code",
   "execution_count": 22,
   "metadata": {},
   "outputs": [],
   "source": [
    "vector_db = FAISS.from_documents(split_docs, embedding_model)"
   ]
  },
  {
   "cell_type": "code",
   "execution_count": 10,
   "metadata": {},
   "outputs": [],
   "source": [
    "retriever: BaseRetriever = vector_db.as_retriever(search_type=\"similarity\", search_kwargs={\"k\": 5})"
   ]
  },
  {
   "cell_type": "code",
   "execution_count": 23,
   "metadata": {},
   "outputs": [],
   "source": [
    "# Initialize ConversationBufferMemory\n",
    "memory = ConversationBufferMemory(\n",
    "    memory_key=\"chat_history\",  # Key used to store conversation history\n",
    "    return_messages=True        # Returns chat history in message format\n",
    ")"
   ]
  },
  {
   "cell_type": "code",
   "execution_count": 29,
   "metadata": {},
   "outputs": [],
   "source": [
    "# def query_gpt4(chat_history: List[Dict[str, str]], retriever: BaseRetriever, user_query: str) -> str:\n",
    "#     \"\"\"\n",
    "#     Handles the conversational aspect and integrates the retriever with OpenAI's GPT-4.\n",
    "    \n",
    "#     Args:\n",
    "#         chat_history: List of previous conversation turns as {\"role\": \"user\"/\"assistant\", \"content\": \"message\"}.\n",
    "#         retriever: The retriever for querying the vector store.\n",
    "#         user_query: The user's current question.\n",
    "        \n",
    "#     Returns:\n",
    "#         A response from GPT-4.\n",
    "#     \"\"\"\n",
    "#     # Retrieve relevant documents\n",
    "#     relevant_docs = retriever.get_relevant_documents(user_query)\n",
    "#     context = \"\\n\\n\".join([doc.page_content for doc in relevant_docs])\n",
    "\n",
    "#     # Add context and chat history to the prompt\n",
    "#     prompt = (\n",
    "#         \"You are a helpful assistant. Use the following context to answer the question:\\n\\n\"\n",
    "#         f\"Context:\\n{context}\\n\\n\"\n",
    "#         \"Conversation History:\\n\" +\n",
    "#         \"\\n\".join([f\"{turn['role']}: {turn['content']}\" for turn in chat_history]) +\n",
    "#         f\"\\n\\nUser: {user_query}\\nAssistant:\"\n",
    "#     )\n",
    "\n",
    "#     # Query GPT-4\n",
    "#     response = client.chat.completions.create(\n",
    "#         model=\"gpt-4o\",\n",
    "#         messages=[{\"role\": \"user\", \"content\": prompt}]\n",
    "#     )\n",
    "\n",
    "#     # Return the GPT-4 response\n",
    "#     return response.choices[0].message.content\n",
    "\n",
    "\n",
    "# ---------------------------------------------------------------------------------------------------\n",
    "\n",
    "def query_gpt4(memory: ConversationBufferMemory, retriever: BaseRetriever, user_query: str) -> str:\n",
    "    \"\"\"\n",
    "    Handles the conversational aspect and integrates the retriever with OpenAI's GPT-4.\n",
    "    \n",
    "    Args:\n",
    "        memory: ConversationBufferMemory to manage chat history.\n",
    "        retriever: The retriever for querying the vector store.\n",
    "        user_query: The user's current question.\n",
    "        \n",
    "    Returns:\n",
    "        A response from GPT-4.\n",
    "    \"\"\"\n",
    "    # Retrieve relevant documents\n",
    "    relevant_docs = retriever.get_relevant_documents(user_query)\n",
    "    context = \"\\n\\n\".join([doc.page_content for doc in relevant_docs])\n",
    "\n",
    "    # Retrieve conversation history from memory\n",
    "    chat_history = memory.chat_memory.messages\n",
    "\n",
    "    # Add context and chat history to the prompt\n",
    "    prompt = (\n",
    "        \"You are a helpful assistant. Use the following context to answer the question:\\n\\n\"\n",
    "        f\"Context:\\n{context}\\n\\n\"\n",
    "        \"Conversation History:\\n\" +\n",
    "        \"\\n\".join([\n",
    "            f\"{'User' if isinstance(message, HumanMessage) else 'Assistant'}: {message.content}\"\n",
    "            for message in chat_history\n",
    "        ]) +\n",
    "        f\"\\n\\nUser: {user_query}\\nAssistant:\"\n",
    "    )\n",
    "\n",
    "    # Query GPT-4\n",
    "    response = client.chat.completions.create(\n",
    "        model=\"gpt-4o\",\n",
    "        messages=[{\"role\": \"user\", \"content\": prompt}]\n",
    "    )\n",
    "\n",
    "    # Add the user's query and GPT-4's response to memory\n",
    "    memory.chat_memory.add_user_message(user_query)\n",
    "    memory.chat_memory.add_ai_message(response.choices[0].message.content)\n",
    "\n",
    "    return response.choices[0].message.content\n"
   ]
  },
  {
   "cell_type": "code",
   "execution_count": null,
   "metadata": {},
   "outputs": [
    {
     "name": "stdout",
     "output_type": "stream",
     "text": [
      "Chatbot is ready. Type 'exit' to end the conversation.\n",
      "Assistant: Based on the provided context, here are 10 cultural norms for America:\n",
      "\n",
      "1. **Individualism**: Emphasis is placed on self-reliance, personal independence, and initiative, with individuals expected to be \"self-starting.\"\n",
      "\n",
      "2. **Liberty and Freedom**: Liberty is highly valued, seen as freedom from unnecessary constraints, and officially associated with \"the pursuit of happiness.\"\n",
      "\n",
      "3. **Competitiveness**: A general value within the culture, competitiveness is expected both individually and collectively, and is particularly pronounced in business and academia.\n",
      "\n",
      "4. **Achievement and Earned Status**: Status is ideally achieved through personal effort and accomplishments, valued over inherited advantages, with an emphasis on meritocracy.\n",
      "\n",
      "5. **Generosity and Social Conformity**: While individualism is valued, there is also a strong emphasis on generosity and a concern for societal welfare, alongside a degree of conformity to social norms.\n",
      "\n",
      "6. **Optimism**: Americans value optimism, with a cultural belief that any problem can be solved with energy and ingenuity, and success is often seen as a result of persistent effort.\n",
      "\n",
      "7. **Fair Play**: Competition is tempered by a value for fairness, emphasizing integrity and ethical conduct in interactions.\n",
      "\n",
      "8. **Cooperation for the Common Welfare**: Despite individualism, cooperation for the societal good is valued, with many participatory, volunteer-driven organizations focusing on collective welfare.\n",
      "\n",
      "9. **Honesty**: Cultural ideals hold honesty and frankness in high regard, with a low tolerance for deceit or dissimulation.\n",
      "\n",
      "10. **Prestige through Achievement**: Prestige and respect are seen as attainable by anyone through achievement, not limited by social class or wealth but earned through contributions to society.\n",
      "\n",
      "These norms reflect the balance between fostering individual achievements and maintaining a sense of community and fairness in American culture.\n",
      "Assistant: Based on the provided context, here are 10 cultural norms for Japan:\n",
      "\n",
      "1. **Gift-Giving**: Gift-giving is an important part of Japanese social interactions, characterized by modesty in giving, the importance of presentation, and the use of both hands in giving and receiving.\n",
      "\n",
      "2. **Punctuality**: Being punctual is highly valued. Arriving a few minutes early is customary, and lateness is often considered disrespectful.\n",
      "\n",
      "3. **Patience and Consensus**: Patience is a necessity in Japan, especially in business. Decision-making is often slow as it is based on consensus rather than individual opinions.\n",
      "\n",
      "4. **Non-Verbal Communication**: Japanese communication relies heavily on non-verbal cues and indirect language, with politeness and modesty being paramount.\n",
      "\n",
      "5. **Hierarchy and Respect**: Understanding and respecting the hierarchical nature of social and business structures is crucial, as status and rank play a significant role in interactions.\n",
      "\n",
      "6. **Bowing**: Bowing is a key form of greeting and expression of respect, preferred over handshakes.\n",
      "\n",
      "7. **Collectivism**: There's a strong sense of belonging to groups, with emphasis on harmony, avoiding public confrontation, and not disrupting the collective consensus.\n",
      "\n",
      "8. **Dining Etiquette**: Specific manners must be followed, such as leaving shoes at the entrance of traditional restaurants, using chopsticks properly, and not pouring your own drink.\n",
      "\n",
      "9. **Conformity and Humility**: Social conformity, self-restraint, and humility are cultural virtues, with a tendency to avoid public displays of dissatisfaction or strong emotion.\n",
      "\n",
      "10. **Risk Aversion**: Preference for security and predictability is common, with less emphasis on adventurous or risk-taking behavior, although this is changing with younger generations.\n",
      "\n",
      "These norms highlight the importance Japan places on tradition, respect, and social harmony.\n",
      "Goodbye!\n"
     ]
    }
   ],
   "source": [
    "# if __name__ == \"__main__\":\n",
    "#     chat_history = []  # Initialize chat history\n",
    "#     print(\"Chatbot is ready. Type 'exit' to end the conversation.\")\n",
    "    \n",
    "#     while True:\n",
    "#         user_input = input(\"User: \")\n",
    "#         if user_input.lower() == \"exit\":\n",
    "#             print(\"Goodbye!\")\n",
    "#             break\n",
    "\n",
    "#         # Get GPT-4 response\n",
    "#         print(\"User query: \\n\", user_input)\n",
    "#         gpt4_response = query_gpt4(chat_history, retriever, user_input)\n",
    "#         print(f\"Assistant: \\n {gpt4_response}\")\n",
    "        \n",
    "#         # Update chat history\n",
    "#         chat_history.append({\"role\": \"user\", \"content\": user_input})\n",
    "#         chat_history.append({\"role\": \"assistant\", \"content\": gpt4_response})\n",
    "\n",
    "if __name__ == \"__main__\":\n",
    "    print(\"Chatbot is ready. Type 'exit' to end the conversation.\")\n",
    "\n",
    "    while True:\n",
    "        user_input = input(\"User: \")\n",
    "        print(\"User query: \\n\")\n",
    "        if user_input.lower() == \"exit\":\n",
    "            print(\"Goodbye!\")\n",
    "            break\n",
    "\n",
    "        # Get GPT-4 response\n",
    "        gpt4_response = query_gpt4(memory, retriever, user_input)\n",
    "        print(f\"Assistant: {gpt4_response}\")"
   ]
  },
  {
   "cell_type": "code",
   "execution_count": 31,
   "metadata": {},
   "outputs": [
    {
     "data": {
      "text/plain": [
       "[HumanMessage(content='Please provide 10 cultural norms for America'),\n",
       " AIMessage(content='Based on the provided context, here are 10 cultural norms for America:\\n\\n1. **Individualism**: Americans highly value individualism, emphasizing personal independence, self-reliance, and initiative.\\n\\n2. **Liberty and Freedom**: Liberty is integral, often associated with freedom from unnecessary constraints. However, the purpose of this freedom is broadly defined as \"the pursuit of happiness.\"\\n\\n3. **Competitiveness**: Competitiveness is a pervasive value, expected from both individuals and groups, and is institutionalized in various sectors such as business and education.\\n\\n4. **Achievement and Earned Status**: Status is ideally achieved through one\\'s own efforts rather than inherited, with emphasis on self-made success.\\n\\n5. **Generosity and Social Conformity**: Despite the focus on individualism, generosity and concern for others, particularly those less fortunate, are valued, as is outward conformity to societal norms.\\n\\n6. **Optimism**: There\\'s a cultural optimism, the belief that problems are solvable with enough energy and ingenuity, and that success is achievable.\\n\\n7. **Fair Play**: The cultural value of fairness tempers competitiveness, perhaps derived from British influences, emphasizing integrity in competition.\\n\\n8. **Cooperation for the Common Welfare**: Cooperation is valued, demonstrated by numerous volunteer organizations and charitable activities aimed at societal benefits.\\n\\n9. **Honesty**: Frankness in human relations is idealized, while deceit is frowned upon.\\n\\n10. **Meritocratic Prestige**: Prestige is seen as something to be earned through achievements rather than inherited or attributed solely to financial wealth.\\n\\nThese norms illustrate the balance between individualistic pursuits and communal responsibilities that shape American cultural values.'),\n",
       " HumanMessage(content='Please provide 10 cultural norms for America'),\n",
       " AIMessage(content='Based on the provided context, here are 10 cultural norms for America:\\n\\n1. **Individualism**: Emphasis is placed on self-reliance, personal independence, and initiative, with individuals expected to be \"self-starting.\"\\n\\n2. **Liberty and Freedom**: Liberty is highly valued, seen as freedom from unnecessary constraints, and officially associated with \"the pursuit of happiness.\"\\n\\n3. **Competitiveness**: A general value within the culture, competitiveness is expected both individually and collectively, and is particularly pronounced in business and academia.\\n\\n4. **Achievement and Earned Status**: Status is ideally achieved through personal effort and accomplishments, valued over inherited advantages, with an emphasis on meritocracy.\\n\\n5. **Generosity and Social Conformity**: While individualism is valued, there is also a strong emphasis on generosity and a concern for societal welfare, alongside a degree of conformity to social norms.\\n\\n6. **Optimism**: Americans value optimism, with a cultural belief that any problem can be solved with energy and ingenuity, and success is often seen as a result of persistent effort.\\n\\n7. **Fair Play**: Competition is tempered by a value for fairness, emphasizing integrity and ethical conduct in interactions.\\n\\n8. **Cooperation for the Common Welfare**: Despite individualism, cooperation for the societal good is valued, with many participatory, volunteer-driven organizations focusing on collective welfare.\\n\\n9. **Honesty**: Cultural ideals hold honesty and frankness in high regard, with a low tolerance for deceit or dissimulation.\\n\\n10. **Prestige through Achievement**: Prestige and respect are seen as attainable by anyone through achievement, not limited by social class or wealth but earned through contributions to society.\\n\\nThese norms reflect the balance between fostering individual achievements and maintaining a sense of community and fairness in American culture.'),\n",
       " HumanMessage(content='Please provide 10 cultural norms for Japan'),\n",
       " AIMessage(content=\"Based on the provided context, here are 10 cultural norms for Japan:\\n\\n1. **Gift-Giving**: Gift-giving is an important part of Japanese social interactions, characterized by modesty in giving, the importance of presentation, and the use of both hands in giving and receiving.\\n\\n2. **Punctuality**: Being punctual is highly valued. Arriving a few minutes early is customary, and lateness is often considered disrespectful.\\n\\n3. **Patience and Consensus**: Patience is a necessity in Japan, especially in business. Decision-making is often slow as it is based on consensus rather than individual opinions.\\n\\n4. **Non-Verbal Communication**: Japanese communication relies heavily on non-verbal cues and indirect language, with politeness and modesty being paramount.\\n\\n5. **Hierarchy and Respect**: Understanding and respecting the hierarchical nature of social and business structures is crucial, as status and rank play a significant role in interactions.\\n\\n6. **Bowing**: Bowing is a key form of greeting and expression of respect, preferred over handshakes.\\n\\n7. **Collectivism**: There's a strong sense of belonging to groups, with emphasis on harmony, avoiding public confrontation, and not disrupting the collective consensus.\\n\\n8. **Dining Etiquette**: Specific manners must be followed, such as leaving shoes at the entrance of traditional restaurants, using chopsticks properly, and not pouring your own drink.\\n\\n9. **Conformity and Humility**: Social conformity, self-restraint, and humility are cultural virtues, with a tendency to avoid public displays of dissatisfaction or strong emotion.\\n\\n10. **Risk Aversion**: Preference for security and predictability is common, with less emphasis on adventurous or risk-taking behavior, although this is changing with younger generations.\\n\\nThese norms highlight the importance Japan places on tradition, respect, and social harmony.\")]"
      ]
     },
     "execution_count": 31,
     "metadata": {},
     "output_type": "execute_result"
    }
   ],
   "source": [
    "memory.chat_memory.messages"
   ]
  },
  {
   "cell_type": "code",
   "execution_count": null,
   "metadata": {},
   "outputs": [],
   "source": []
  }
 ],
 "metadata": {
  "kernelspec": {
   "display_name": "Python 3",
   "language": "python",
   "name": "python3"
  },
  "language_info": {
   "codemirror_mode": {
    "name": "ipython",
    "version": 3
   },
   "file_extension": ".py",
   "mimetype": "text/x-python",
   "name": "python",
   "nbconvert_exporter": "python",
   "pygments_lexer": "ipython3",
   "version": "3.10.4"
  }
 },
 "nbformat": 4,
 "nbformat_minor": 2
}
