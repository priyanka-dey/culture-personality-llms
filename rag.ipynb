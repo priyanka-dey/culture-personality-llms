{
 "cells": [
  {
   "cell_type": "code",
   "execution_count": 31,
   "metadata": {},
   "outputs": [],
   "source": [
    "# Required imports\n",
    "from langchain_community.embeddings import HuggingFaceEmbeddings\n",
    "from langchain_community.vectorstores import FAISS\n",
    "from langchain_community.document_loaders import PyPDFLoader\n",
    "from langchain_groq import ChatGroq\n",
    "from langchain.chains import ConversationalRetrievalChain\n",
    "from langchain.memory import ConversationBufferMemory\n",
    "from langchain_openai import OpenAIEmbeddings\n",
    "from langchain_text_splitters import RecursiveCharacterTextSplitter\n",
    "from tqdm import tqdm"
   ]
  },
  {
   "cell_type": "code",
   "execution_count": 32,
   "metadata": {},
   "outputs": [],
   "source": [
    "import os\n",
    "from dotenv import load_dotenv\n",
    "load_dotenv()\n",
    "\n",
    "os.environ[\"HUGGING_FACE_API_KEY\"] = os.getenv(\"HUGGING_FACE_API_KEY\")\n",
    "os.environ[\"OPEN_AI_API\"] = os.getenv(\"OPEN_AI_API\")\n",
    "os.environ[\"GROQ_API_KEY\"] = os.getenv('GROQ_API_KEY')\n",
    "groq_api_key = os.getenv('GROQ_API_KEY')\n",
    "open_ai_api_key = os.getenv(\"OPEN_AI_API\")"
   ]
  },
  {
   "cell_type": "code",
   "execution_count": 33,
   "metadata": {},
   "outputs": [],
   "source": [
    "root_directory = \".\\Documents\"\n",
    "documents = list()"
   ]
  },
  {
   "cell_type": "code",
   "execution_count": 34,
   "metadata": {},
   "outputs": [
    {
     "name": "stderr",
     "output_type": "stream",
     "text": [
      "XRef object at 2945 can not be read, some object may be missing\n",
      "XRef object at 2945 can not be read, some object may be missing\n",
      "Ignoring wrong pointing object 2268 0 (offset 1064028)\n",
      "Ignoring wrong pointing object 2269 0 (offset 1064028)\n"
     ]
    }
   ],
   "source": [
    "for folder, _, files in os.walk(root_directory):\n",
    "    for file in files:\n",
    "        file_path = os.path.join(folder, file)\n",
    "        try:\n",
    "            loader = PyPDFLoader(file_path)\n",
    "            docs = loader.load()\n",
    "            documents.extend(docs)\n",
    "        except Exception as e:\n",
    "            print(f\"Error loading {file_path}: {e}\")"
   ]
  },
  {
   "cell_type": "code",
   "execution_count": 35,
   "metadata": {},
   "outputs": [
    {
     "data": {
      "text/plain": [
       "2421"
      ]
     },
     "execution_count": 35,
     "metadata": {},
     "output_type": "execute_result"
    }
   ],
   "source": [
    "len(documents)"
   ]
  },
  {
   "cell_type": "code",
   "execution_count": null,
   "metadata": {},
   "outputs": [],
   "source": [
    "# Split documents into manageable chunks\n",
    "text_splitter = RecursiveCharacterTextSplitter(chunk_size=8000, chunk_overlap=200)\n",
    "chunked_documents = []"
   ]
  },
  {
   "cell_type": "code",
   "execution_count": 37,
   "metadata": {},
   "outputs": [
    {
     "name": "stderr",
     "output_type": "stream",
     "text": [
      "Splitting Documents: 100%|██████████| 2421/2421 [00:00<00:00, 5676.30it/s]\n"
     ]
    }
   ],
   "source": [
    "for doc in tqdm(documents, desc=\"Splitting Documents\"):\n",
    "    chunks = text_splitter.split_documents([doc])\n",
    "    chunked_documents.extend(chunks)"
   ]
  },
  {
   "cell_type": "code",
   "execution_count": 41,
   "metadata": {},
   "outputs": [],
   "source": [
    "embedding_model = OpenAIEmbeddings(model=\"text-embedding-3-large\", api_key=open_ai_api_key)"
   ]
  },
  {
   "cell_type": "code",
   "execution_count": 42,
   "metadata": {},
   "outputs": [],
   "source": [
    "vector_db = FAISS.from_documents(chunked_documents, embedding_model)"
   ]
  },
  {
   "cell_type": "code",
   "execution_count": 43,
   "metadata": {},
   "outputs": [],
   "source": [
    "llm = ChatGroq(model='llama-3.2-11b-text-preview', groq_api_key=groq_api_key)"
   ]
  },
  {
   "cell_type": "code",
   "execution_count": 44,
   "metadata": {},
   "outputs": [],
   "source": [
    "# 5. Memory setup\n",
    "memory = ConversationBufferMemory(\n",
    "    memory_key=\"chat_history\",  # Key used to store conversation history\n",
    "    return_messages=True        # Allows memory to be added to chain responses\n",
    ")"
   ]
  },
  {
   "cell_type": "code",
   "execution_count": 45,
   "metadata": {},
   "outputs": [],
   "source": [
    "# 6. Conversational Retrieval Chain\n",
    "qa_chain = ConversationalRetrievalChain.from_llm(\n",
    "    llm=llm,\n",
    "    retriever=vector_db.as_retriever(search_type=\"similarity\", search_kwargs={\"k\": 5}),\n",
    "    memory=memory,\n",
    "    chain_type=\"stuff\"\n",
    ")"
   ]
  },
  {
   "cell_type": "code",
   "execution_count": 46,
   "metadata": {},
   "outputs": [],
   "source": [
    "def chatbot(user_input: str) -> str:\n",
    "    \"\"\"\n",
    "    This function takes user input and returns the chatbot's response,\n",
    "    retaining conversation context.\n",
    "    \"\"\"\n",
    "    response = qa_chain.run(user_input)\n",
    "    return response"
   ]
  },
  {
   "cell_type": "code",
   "execution_count": 47,
   "metadata": {},
   "outputs": [
    {
     "name": "stdout",
     "output_type": "stream",
     "text": [
      "Chatbot is running. Type 'exit' to end the conversation.\n",
      "Chatbot: Based on the provided context, here are 10 cultural norms for Japan:\n",
      "\n",
      "1. **Bowing is preferred over shaking hands**: Bowing is an expression of respect and gratitude in Japan, and it's considered more polite than shaking hands.\n",
      "\n",
      "2. **Use of family names is customary**: In Japan, it's customary to use family names instead of first names, especially when interacting with people of higher status or authority.\n",
      "\n",
      "3. **Gift-giving is a significant aspect of etiquette**: Gift-giving is a highly ritualized custom in Japan, and it's essential to give nicely wrapped gifts that are not too valuable to avoid putting the recipient in a position of debt.\n",
      "\n",
      "4. **Modesty and humility are valued**: Japanese culture places a strong emphasis on modesty and humility, so it's essential to be self-effacing and avoid drawing attention to oneself.\n",
      "\n",
      "5. **Directness is not always appreciated**: Japanese communication often involves indirectness, and it's essential to be aware of the nuances of language and avoid being too direct or blunt.\n",
      "\n",
      "6. **Face is a significant concept**: In Japan, \"face\" refers to social status and reputation, and it's essential to avoid losing face by criticizing others or expressing negative opinions.\n",
      "\n",
      "7. **Business cards are mandatory**: Business cards are an essential part of Japanese business etiquette, and it's customary to exchange them when meeting someone for the first time.\n",
      "\n",
      "8. **Punctuality is highly valued**: Punctuality is a significant aspect of Japanese culture, and it's essential to arrive on time or even a few minutes early for appointments and meetings.\n",
      "\n",
      "9. **Respect for hierarchy is important**: Japan has a strong hierarchical society, and it's essential to show respect for people of higher status or authority, especially in business and professional settings.\n",
      "\n",
      "10. **Save face and avoid conflict**: Conflict avoidance is a significant aspect of Japanese culture, and it's essential to prioritize saving face and avoiding conflict over expressing one's own opinions or needs.\n",
      "Chatbot: Based on the provided context, here are 10 cultural norms for South Africa:\n",
      "\n",
      "1. **Respect for Elders**: In many South African cultures, elders are highly respected and their opinions are valued. Children are taught to show respect to their elders, and it is considered impolite to disagree with them openly.\n",
      "\n",
      "2. **Use of Formal Titles**: In South Africa, it is customary to use formal titles such as \"Mr.\", \"Mrs.\", \"Ms.\", or \"Dr.\" when addressing someone, especially if they are older or in a position of authority.\n",
      "\n",
      "3. **Greetings**: In many South African cultures, greetings are an important part of social interactions. People often greet each other with a handshake, a hug, or a kiss on the cheek, depending on the level of familiarity.\n",
      "\n",
      "4. **Use of Handshake or Fist Bump**: In South Africa, a handshake or a fist bump is a common way to greet someone, especially in informal settings.\n",
      "\n",
      "5. **Respect for Ancestors**: In many South African cultures, ancestors are highly respected and believed to play an important role in the lives of their descendants. People often visit their ancestors' graves and perform rituals to honor them.\n",
      "\n",
      "6. **Importance of Community**: In South Africa, community is highly valued, and people often prioritize the needs of their community over their individual needs.\n",
      "\n",
      "7. **Respect for Tradition**: South Africans often place a high value on tradition and cultural heritage. They may observe traditional customs and practices, such as initiation rites, weddings, and funerals.\n",
      "\n",
      "8. **Use of Proverbs and Sayings**: In South Africa, proverbs and sayings are often used to convey important messages and values. People may use these sayings to teach children important lessons or to caution against certain behaviors.\n",
      "\n",
      "9. **Respect for Authority**: In South Africa, respect for authority is highly valued. People are taught to respect their parents, teachers, and other authority figures, and to obey their instructions.\n",
      "\n",
      "10. **Importance of Ubuntu**: In South Africa, the concept of Ubuntu (humanity towards others) is highly valued. People are taught to prioritize the needs of others, to be compassionate, and to act with kindness and generosity.\n",
      "\n",
      "Please note that these cultural norms may vary across different regions and communities in South Africa, and not all South Africans may observe these norms in the same way.\n",
      "Chatbot: Based on the provided literature, here are 10 cultural norms for Brazil:\n",
      "\n",
      "1. **Emphasis on Personal Relationships**: Brazilians place a strong value on building and maintaining personal relationships, which are often based on trust, loyalty, and shared experiences.\n",
      "\n",
      "2. **Flexibility and Improvisation**: Brazilians are known for their adaptability and ability to think on their feet, often prioritizing flexibility and quick decision-making over rigid planning and protocols.\n",
      "\n",
      "3. **Hospitality and Receptivity to Others**: Brazilians are known for their warm hospitality and welcoming nature, often extending invitations to share meals, social events, and other activities with friends and acquaintances.\n",
      "\n",
      "4. **Importance of Family Ties**: Family is highly valued in Brazilian culture, with close-knit family relationships and a strong sense of solidarity among relatives.\n",
      "\n",
      "5. **Emphasis on Social Harmony**: Brazilians tend to prioritize social harmony and avoid conflict, often opting for diplomacy and compromise over confrontation and aggression.\n",
      "\n",
      "6. **Respect for Authority and Tradition**: Brazilians have a strong sense of respect for authority, tradition, and established norms, which can sometimes lead to a reluctance to challenge or question established power structures.\n",
      "\n",
      "7. **Valuing Short-term Planning**: Brazilians tend to prioritize short-term goals and planning over long-term strategies, often focusing on immediate needs and opportunities rather than distant futures.\n",
      "\n",
      "8. **Love of Festivals and Celebrations**: Brazilians are known for their love of festivals and celebrations, often throwing large and festive events to mark important occasions and holidays.\n",
      "\n",
      "9. **Importance of Physical Appearance**: Brazilians place a strong emphasis on physical appearance and beauty, often prioritizing style and fashion over more practical or utilitarian considerations.\n",
      "\n",
      "10. **Relaxation and Enjoyment of Life**: Brazilians tend to prioritize relaxation and enjoyment of life, often focusing on enjoying the present moment and making the most of each day rather than striving for material success or external validation.\n",
      "Chatbot: Goodbye!\n"
     ]
    }
   ],
   "source": [
    "# Main execution loop for the chatbot\n",
    "if __name__ == \"__main__\":\n",
    "    print(\"Chatbot is running. Type 'exit' to end the conversation.\")\n",
    "    while True:\n",
    "        user_input = input(\"You: \")\n",
    "        if user_input.lower() == \"exit\":\n",
    "            print(\"Chatbot: Goodbye!\")\n",
    "            break\n",
    "        response = chatbot(user_input)\n",
    "        print(f\"Chatbot: {response}\")"
   ]
  },
  {
   "cell_type": "code",
   "execution_count": 48,
   "metadata": {},
   "outputs": [
    {
     "data": {
      "text/plain": [
       "[HumanMessage(content='Please provide 10 cultural norms for Japan'),\n",
       " AIMessage(content='Based on the provided context, here are 10 cultural norms for Japan:\\n\\n1. **Bowing is preferred over shaking hands**: Bowing is an expression of respect and gratitude in Japan, and it\\'s considered more polite than shaking hands.\\n\\n2. **Use of family names is customary**: In Japan, it\\'s customary to use family names instead of first names, especially when interacting with people of higher status or authority.\\n\\n3. **Gift-giving is a significant aspect of etiquette**: Gift-giving is a highly ritualized custom in Japan, and it\\'s essential to give nicely wrapped gifts that are not too valuable to avoid putting the recipient in a position of debt.\\n\\n4. **Modesty and humility are valued**: Japanese culture places a strong emphasis on modesty and humility, so it\\'s essential to be self-effacing and avoid drawing attention to oneself.\\n\\n5. **Directness is not always appreciated**: Japanese communication often involves indirectness, and it\\'s essential to be aware of the nuances of language and avoid being too direct or blunt.\\n\\n6. **Face is a significant concept**: In Japan, \"face\" refers to social status and reputation, and it\\'s essential to avoid losing face by criticizing others or expressing negative opinions.\\n\\n7. **Business cards are mandatory**: Business cards are an essential part of Japanese business etiquette, and it\\'s customary to exchange them when meeting someone for the first time.\\n\\n8. **Punctuality is highly valued**: Punctuality is a significant aspect of Japanese culture, and it\\'s essential to arrive on time or even a few minutes early for appointments and meetings.\\n\\n9. **Respect for hierarchy is important**: Japan has a strong hierarchical society, and it\\'s essential to show respect for people of higher status or authority, especially in business and professional settings.\\n\\n10. **Save face and avoid conflict**: Conflict avoidance is a significant aspect of Japanese culture, and it\\'s essential to prioritize saving face and avoiding conflict over expressing one\\'s own opinions or needs.'),\n",
       " HumanMessage(content='Please provide 10 cultural norms for South Africa'),\n",
       " AIMessage(content='Based on the provided context, here are 10 cultural norms for South Africa:\\n\\n1. **Respect for Elders**: In many South African cultures, elders are highly respected and their opinions are valued. Children are taught to show respect to their elders, and it is considered impolite to disagree with them openly.\\n\\n2. **Use of Formal Titles**: In South Africa, it is customary to use formal titles such as \"Mr.\", \"Mrs.\", \"Ms.\", or \"Dr.\" when addressing someone, especially if they are older or in a position of authority.\\n\\n3. **Greetings**: In many South African cultures, greetings are an important part of social interactions. People often greet each other with a handshake, a hug, or a kiss on the cheek, depending on the level of familiarity.\\n\\n4. **Use of Handshake or Fist Bump**: In South Africa, a handshake or a fist bump is a common way to greet someone, especially in informal settings.\\n\\n5. **Respect for Ancestors**: In many South African cultures, ancestors are highly respected and believed to play an important role in the lives of their descendants. People often visit their ancestors\\' graves and perform rituals to honor them.\\n\\n6. **Importance of Community**: In South Africa, community is highly valued, and people often prioritize the needs of their community over their individual needs.\\n\\n7. **Respect for Tradition**: South Africans often place a high value on tradition and cultural heritage. They may observe traditional customs and practices, such as initiation rites, weddings, and funerals.\\n\\n8. **Use of Proverbs and Sayings**: In South Africa, proverbs and sayings are often used to convey important messages and values. People may use these sayings to teach children important lessons or to caution against certain behaviors.\\n\\n9. **Respect for Authority**: In South Africa, respect for authority is highly valued. People are taught to respect their parents, teachers, and other authority figures, and to obey their instructions.\\n\\n10. **Importance of Ubuntu**: In South Africa, the concept of Ubuntu (humanity towards others) is highly valued. People are taught to prioritize the needs of others, to be compassionate, and to act with kindness and generosity.\\n\\nPlease note that these cultural norms may vary across different regions and communities in South Africa, and not all South Africans may observe these norms in the same way.'),\n",
       " HumanMessage(content='Please provide 10 cultural norms for Brazil'),\n",
       " AIMessage(content='Based on the provided literature, here are 10 cultural norms for Brazil:\\n\\n1. **Emphasis on Personal Relationships**: Brazilians place a strong value on building and maintaining personal relationships, which are often based on trust, loyalty, and shared experiences.\\n\\n2. **Flexibility and Improvisation**: Brazilians are known for their adaptability and ability to think on their feet, often prioritizing flexibility and quick decision-making over rigid planning and protocols.\\n\\n3. **Hospitality and Receptivity to Others**: Brazilians are known for their warm hospitality and welcoming nature, often extending invitations to share meals, social events, and other activities with friends and acquaintances.\\n\\n4. **Importance of Family Ties**: Family is highly valued in Brazilian culture, with close-knit family relationships and a strong sense of solidarity among relatives.\\n\\n5. **Emphasis on Social Harmony**: Brazilians tend to prioritize social harmony and avoid conflict, often opting for diplomacy and compromise over confrontation and aggression.\\n\\n6. **Respect for Authority and Tradition**: Brazilians have a strong sense of respect for authority, tradition, and established norms, which can sometimes lead to a reluctance to challenge or question established power structures.\\n\\n7. **Valuing Short-term Planning**: Brazilians tend to prioritize short-term goals and planning over long-term strategies, often focusing on immediate needs and opportunities rather than distant futures.\\n\\n8. **Love of Festivals and Celebrations**: Brazilians are known for their love of festivals and celebrations, often throwing large and festive events to mark important occasions and holidays.\\n\\n9. **Importance of Physical Appearance**: Brazilians place a strong emphasis on physical appearance and beauty, often prioritizing style and fashion over more practical or utilitarian considerations.\\n\\n10. **Relaxation and Enjoyment of Life**: Brazilians tend to prioritize relaxation and enjoyment of life, often focusing on enjoying the present moment and making the most of each day rather than striving for material success or external validation.')]"
      ]
     },
     "execution_count": 48,
     "metadata": {},
     "output_type": "execute_result"
    }
   ],
   "source": [
    "memory.chat_memory.messages"
   ]
  },
  {
   "cell_type": "code",
   "execution_count": null,
   "metadata": {},
   "outputs": [],
   "source": []
  }
 ],
 "metadata": {
  "kernelspec": {
   "display_name": "Python 3",
   "language": "python",
   "name": "python3"
  },
  "language_info": {
   "codemirror_mode": {
    "name": "ipython",
    "version": 3
   },
   "file_extension": ".py",
   "mimetype": "text/x-python",
   "name": "python",
   "nbconvert_exporter": "python",
   "pygments_lexer": "ipython3",
   "version": "3.10.4"
  }
 },
 "nbformat": 4,
 "nbformat_minor": 2
}
